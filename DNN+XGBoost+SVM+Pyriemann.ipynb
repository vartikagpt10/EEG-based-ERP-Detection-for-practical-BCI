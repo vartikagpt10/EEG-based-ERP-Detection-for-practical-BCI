{
  "nbformat": 4,
  "nbformat_minor": 0,
  "metadata": {
    "colab": {
      "name": "DNN+XGBoost+SVM+Pyriemann.ipynb",
      "provenance": [],
      "collapsed_sections": [
        "zbT268a2eqzL",
        "Ir_rf2xIemy2",
        "cEPY4yx-eh95",
        "EfVZ2LneeYg7",
        "FDka8A7qlUhD"
      ],
      "include_colab_link": true
    },
    "kernelspec": {
      "name": "python3",
      "display_name": "Python 3"
    },
    "accelerator": "GPU"
  },
  "cells": [
    {
      "cell_type": "markdown",
      "metadata": {
        "id": "view-in-github",
        "colab_type": "text"
      },
      "source": [
        "<a href=\"https://colab.research.google.com/github/vartikagpt10/EEG-based-ERP-Detection-for-practical-BCI/blob/main/DNN%2BXGBoost%2BSVM%2BPyriemann.ipynb\" target=\"_parent\"><img src=\"https://colab.research.google.com/assets/colab-badge.svg\" alt=\"Open In Colab\"/></a>"
      ]
    },
    {
      "cell_type": "markdown",
      "metadata": {
        "id": "zbT268a2eqzL"
      },
      "source": [
        "# Download and Extract Data"
      ]
    },
    {
      "cell_type": "code",
      "metadata": {
        "id": "2Pt_de-II0NC",
        "colab": {
          "base_uri": "https://localhost:8080/"
        },
        "outputId": "176e8f1b-561b-4450-f6d4-d1f1d4ef7342"
      },
      "source": [
        "!pip install --upgrade gdown pyriemann\n",
        "!gdown https://drive.google.com/uc?id=1RCZlEI1P0NpCqNkjlQMPnTAOU2phFJkq -O /tmp/Data.zip\n",
        "\n",
        "import zipfile\n",
        "local_zip = '//tmp/Data.zip'\n",
        "\n",
        "zip_ref = zipfile.ZipFile(local_zip, 'r')\n",
        "\n",
        "zip_ref.extractall('/tmp/Data')\n",
        "zip_ref.close()"
      ],
      "execution_count": null,
      "outputs": [
        {
          "output_type": "stream",
          "text": [
            "Collecting gdown\n",
            "  Downloading https://files.pythonhosted.org/packages/50/21/92c3cfe56f5c0647145c4b0083d0733dd4890a057eb100a8eeddf949ffe9/gdown-3.12.2.tar.gz\n",
            "  Installing build dependencies ... \u001b[?25l\u001b[?25hdone\n",
            "  Getting requirements to build wheel ... \u001b[?25l\u001b[?25hdone\n",
            "    Preparing wheel metadata ... \u001b[?25l\u001b[?25hdone\n",
            "Collecting pyriemann\n",
            "\u001b[?25l  Downloading https://files.pythonhosted.org/packages/e0/5e/1df5684d9f43b574d7e2807869578750da94286508ab2129d62c26c1eef0/pyriemann-0.2.6-py2.py3-none-any.whl (41kB)\n",
            "\u001b[K     |████████████████████████████████| 51kB 7.5MB/s \n",
            "\u001b[?25hRequirement already satisfied, skipping upgrade: six in /usr/local/lib/python3.6/dist-packages (from gdown) (1.15.0)\n",
            "Requirement already satisfied, skipping upgrade: filelock in /usr/local/lib/python3.6/dist-packages (from gdown) (3.0.12)\n",
            "Requirement already satisfied, skipping upgrade: tqdm in /usr/local/lib/python3.6/dist-packages (from gdown) (4.41.1)\n",
            "Requirement already satisfied, skipping upgrade: requests[socks] in /usr/local/lib/python3.6/dist-packages (from gdown) (2.23.0)\n",
            "Requirement already satisfied, skipping upgrade: numpy in /usr/local/lib/python3.6/dist-packages (from pyriemann) (1.18.5)\n",
            "Requirement already satisfied, skipping upgrade: joblib in /usr/local/lib/python3.6/dist-packages (from pyriemann) (0.17.0)\n",
            "Requirement already satisfied, skipping upgrade: pandas in /usr/local/lib/python3.6/dist-packages (from pyriemann) (1.1.4)\n",
            "Requirement already satisfied, skipping upgrade: scikit-learn in /usr/local/lib/python3.6/dist-packages (from pyriemann) (0.22.2.post1)\n",
            "Requirement already satisfied, skipping upgrade: scipy in /usr/local/lib/python3.6/dist-packages (from pyriemann) (1.4.1)\n",
            "Requirement already satisfied, skipping upgrade: urllib3!=1.25.0,!=1.25.1,<1.26,>=1.21.1 in /usr/local/lib/python3.6/dist-packages (from requests[socks]->gdown) (1.24.3)\n",
            "Requirement already satisfied, skipping upgrade: idna<3,>=2.5 in /usr/local/lib/python3.6/dist-packages (from requests[socks]->gdown) (2.10)\n",
            "Requirement already satisfied, skipping upgrade: certifi>=2017.4.17 in /usr/local/lib/python3.6/dist-packages (from requests[socks]->gdown) (2020.6.20)\n",
            "Requirement already satisfied, skipping upgrade: chardet<4,>=3.0.2 in /usr/local/lib/python3.6/dist-packages (from requests[socks]->gdown) (3.0.4)\n",
            "Requirement already satisfied, skipping upgrade: PySocks!=1.5.7,>=1.5.6; extra == \"socks\" in /usr/local/lib/python3.6/dist-packages (from requests[socks]->gdown) (1.7.1)\n",
            "Requirement already satisfied, skipping upgrade: pytz>=2017.2 in /usr/local/lib/python3.6/dist-packages (from pandas->pyriemann) (2018.9)\n",
            "Requirement already satisfied, skipping upgrade: python-dateutil>=2.7.3 in /usr/local/lib/python3.6/dist-packages (from pandas->pyriemann) (2.8.1)\n",
            "Building wheels for collected packages: gdown\n",
            "  Building wheel for gdown (PEP 517) ... \u001b[?25l\u001b[?25hdone\n",
            "  Created wheel for gdown: filename=gdown-3.12.2-cp36-none-any.whl size=9694 sha256=c1cccb2ea072f87dee148158d819e5bbf9bd8d85b17271beedef402d6c07ea30\n",
            "  Stored in directory: /root/.cache/pip/wheels/81/d0/d7/d9983facc6f2775411803e0e2d30ebf98efbf2fc6e57701e09\n",
            "Successfully built gdown\n",
            "Installing collected packages: gdown, pyriemann\n",
            "  Found existing installation: gdown 3.6.4\n",
            "    Uninstalling gdown-3.6.4:\n",
            "      Successfully uninstalled gdown-3.6.4\n",
            "Successfully installed gdown-3.12.2 pyriemann-0.2.6\n",
            "Downloading...\n",
            "From: https://drive.google.com/uc?id=1RCZlEI1P0NpCqNkjlQMPnTAOU2phFJkq\n",
            "To: /tmp/Data.zip\n",
            "226MB [00:06, 36.4MB/s]\n"
          ],
          "name": "stdout"
        }
      ]
    },
    {
      "cell_type": "code",
      "metadata": {
        "id": "tOOi1mRFOBs9"
      },
      "source": [
        "import numpy as np\n",
        "import pandas as pd\n",
        "import matplotlib.pyplot as plt\n",
        "import scipy.io as sio\n",
        "import os\n",
        "from scipy.signal import filtfilt, cheby2"
      ],
      "execution_count": null,
      "outputs": []
    },
    {
      "cell_type": "code",
      "metadata": {
        "id": "JkTA6-eNNqgh"
      },
      "source": [
        "# from google.colab import drive\n",
        "# drive.mount('/gdrive')"
      ],
      "execution_count": null,
      "outputs": []
    },
    {
      "cell_type": "code",
      "metadata": {
        "id": "2QN3hXKNoh5Y"
      },
      "source": [
        "train_folder_path = '/tmp/Data/Training set/'\n",
        "validation_folder_path = '/tmp/Data/Validation set/'"
      ],
      "execution_count": null,
      "outputs": []
    },
    {
      "cell_type": "markdown",
      "metadata": {
        "id": "Ir_rf2xIemy2"
      },
      "source": [
        "# Data Extraction"
      ]
    },
    {
      "cell_type": "code",
      "metadata": {
        "id": "BzUZV2RWQmcY",
        "colab": {
          "base_uri": "https://localhost:8080/"
        },
        "outputId": "1658e976-c01b-4000-fa7f-59fada2ac0c8"
      },
      "source": [
        "c=0\n",
        "for i in os.listdir(train_folder_path):\n",
        "  c+=1\n",
        "  if c==1:\n",
        "    temp=sio.loadmat(train_folder_path+i)\n",
        "    dat=np.squeeze(temp['epo_tr']['x']).tolist()\n",
        "    dat=np.array(dat)\n",
        "    lab=np.squeeze(temp['epo_tr']['y']).tolist()\n",
        "    lab=np.array(lab)[0,:]\n",
        "    training_data=dat\n",
        "    training_labels=lab\n",
        "    continue\n",
        "  temp=sio.loadmat(train_folder_path+i)\n",
        "  dat=np.squeeze(temp['epo_tr']['x']).tolist()\n",
        "  dat=np.array(dat)\n",
        "  lab=np.squeeze(temp['epo_tr']['y']).tolist()\n",
        "  lab=np.array(lab)[0,:]\n",
        "  training_data=np.concatenate((training_data,dat),axis=2)\n",
        "  training_labels=np.concatenate((training_labels,lab))\n",
        "training_data=training_data.reshape((2700,56,100))\n",
        "training_data=training_data[:,:32,:]\n",
        "print(\"Training data shape:\",training_data.shape)\n",
        "print(\"Training labels shape:\",training_labels.shape)"
      ],
      "execution_count": null,
      "outputs": [
        {
          "output_type": "stream",
          "text": [
            "Training data shape: (2700, 32, 100)\n",
            "Training labels shape: (2700,)\n"
          ],
          "name": "stdout"
        }
      ]
    },
    {
      "cell_type": "code",
      "metadata": {
        "id": "8KILTNPQNm8z",
        "colab": {
          "base_uri": "https://localhost:8080/"
        },
        "outputId": "cfd5bc3b-196c-402b-e14c-42dea483673d"
      },
      "source": [
        "c=0\n",
        "for i in os.listdir(validation_folder_path):\n",
        "  c+=1\n",
        "  if c==1:\n",
        "    temp=sio.loadmat(validation_folder_path+i)\n",
        "    dat=np.squeeze(temp['epo_val']['x']).tolist()\n",
        "    dat=np.array(dat)\n",
        "    lab=np.squeeze(temp['epo_val']['y']).tolist()\n",
        "    lab=np.array(lab)[0,:]\n",
        "    validation_data=dat\n",
        "    validation_labels=lab\n",
        "    continue\n",
        "  temp=sio.loadmat(validation_folder_path+i)\n",
        "  dat=np.squeeze(temp['epo_val']['x']).tolist()\n",
        "  dat=np.array(dat)\n",
        "  lab=np.squeeze(temp['epo_val']['y']).tolist()\n",
        "  lab=np.array(lab)[0,:]\n",
        "  validation_data=np.concatenate((validation_data,dat),axis=2)\n",
        "  validation_labels=np.concatenate((validation_labels,lab))\n",
        "validation_data=validation_data.reshape((900,56,100))\n",
        "validation_data=validation_data[:,:32,:]\n",
        "print(\"Validation data shape:\",validation_data.shape)\n",
        "print(\"Validation labels shape:\",validation_labels.shape)"
      ],
      "execution_count": null,
      "outputs": [
        {
          "output_type": "stream",
          "text": [
            "Validation data shape: (900, 32, 100)\n",
            "Validation labels shape: (900,)\n"
          ],
          "name": "stdout"
        }
      ]
    },
    {
      "cell_type": "code",
      "metadata": {
        "id": "vIPSLhEeLV0X"
      },
      "source": [
        "# dat=np.squeeze(temp['epo_val']['y']).tolist()\n",
        "# dat=np.array(dat)[0,:]\n",
        "# dat"
      ],
      "execution_count": null,
      "outputs": []
    },
    {
      "cell_type": "markdown",
      "metadata": {
        "id": "cEPY4yx-eh95"
      },
      "source": [
        "# Filtering"
      ]
    },
    {
      "cell_type": "code",
      "metadata": {
        "id": "pWaU1-3gWQxh"
      },
      "source": [
        "def chebyBandpass(signal, lowcut, fs, order):\n",
        "  nyq=0.5*fs\n",
        "  low = lowcut/nyq\n",
        "  # high = highcut / nyq\n",
        "  b, a = cheby2(order,12, low, btype='low')\n",
        "  filtered = filtfilt(b, a, signal)\n",
        "  return filtered\n",
        "\n",
        "def filterall(data):\n",
        "  filtered=[]\n",
        "  for trial in data:\n",
        "    temp_filtered=[]\n",
        "    for channel in trial:\n",
        "      temp_filtered.append(chebyBandpass(channel,20,100,3))\n",
        "    filtered.append(temp_filtered)\n",
        "  return np.array(filtered)\n",
        "\n",
        "filt_train=filterall(training_data)\n",
        "filt_val=filterall(validation_data)"
      ],
      "execution_count": null,
      "outputs": []
    },
    {
      "cell_type": "markdown",
      "metadata": {
        "id": "Y1u3SQf5crKv"
      },
      "source": [
        "# Frequecy Domain Visualizations of Pz"
      ]
    },
    {
      "cell_type": "markdown",
      "metadata": {
        "id": "EfVZ2LneeYg7"
      },
      "source": [
        "## Spectrum function"
      ]
    },
    {
      "cell_type": "code",
      "metadata": {
        "id": "s-3NsG9SY9vm"
      },
      "source": [
        "def plotSpectrum(signal, fs):\n",
        "    n=len(signal)\n",
        "    k=np.arange(n)\n",
        "    time=n/fs\n",
        "    frequency_spectra=k/time\n",
        "    frequency_spectra=frequency_spectra[range(int(n/2))]\n",
        "    Y=np.fft.fft(signal)/n\n",
        "    Y=Y[range(int(n/2))]\n",
        "\n",
        "    plt.subplot(2,1,1)\n",
        "    plt.plot(k/fs,signal,'b')\n",
        "    plt.xlabel(' time(s)')\n",
        "    plt.title('Time domain visualisation')\n",
        "\n",
        "    plt.subplot(2,1,2)\n",
        "    plt.plot(frequency_spectra,abs(Y),'r')\n",
        "    plt.xlabel( 'Freq (Hz) ')\n",
        "    plt.title('Frequency domain visualisation')"
      ],
      "execution_count": null,
      "outputs": []
    },
    {
      "cell_type": "markdown",
      "metadata": {
        "id": "gW-_fUFRc5pv"
      },
      "source": [
        "## Unfiltered"
      ]
    },
    {
      "cell_type": "code",
      "metadata": {
        "id": "8WDbBoTNbZDP",
        "colab": {
          "base_uri": "https://localhost:8080/",
          "height": 295
        },
        "outputId": "b63351a3-9efb-455c-d1ba-6496ef5bc60b"
      },
      "source": [
        "plotSpectrum(training_data[0,21,:],100)"
      ],
      "execution_count": null,
      "outputs": [
        {
          "output_type": "display_data",
          "data": {
            "image/png": "[encoded data removed]",
            "text/plain": [
              "<Figure size 432x288 with 2 Axes>"
            ]
          },
          "metadata": {
            "tags": [],
            "needs_background": "light"
          }
        }
      ]
    },
    {
      "cell_type": "markdown",
      "metadata": {
        "id": "2f9fILrKdCrd"
      },
      "source": [
        "## Filtered (Low-pass Chebyshev type-II filter with cutoff=20Hz)"
      ]
    },
    {
      "cell_type": "code",
      "metadata": {
        "id": "2zmSxWugbrup",
        "colab": {
          "base_uri": "https://localhost:8080/",
          "height": 295
        },
        "outputId": "f137e578-c621-4a35-ef8a-92ada7a3cf8b"
      },
      "source": [
        "plotSpectrum(filt_train[0,21,:],100)"
      ],
      "execution_count": null,
      "outputs": [
        {
          "output_type": "display_data",
          "data": {
            "image/png": "[encoded data removed]",
            "text/plain": [
              "<Figure size 432x288 with 2 Axes>"
            ]
          },
          "metadata": {
            "tags": [],
            "needs_background": "light"
          }
        }
      ]
    },
    {
      "cell_type": "markdown",
      "metadata": {
        "id": "KyBKfO8ge2P8"
      },
      "source": [
        "# Classification"
      ]
    },
    {
      "cell_type": "markdown",
      "metadata": {
        "id": "FDka8A7qlUhD"
      },
      "source": [
        "### Classification Libraries"
      ]
    },
    {
      "cell_type": "code",
      "metadata": {
        "id": "cT-N01fOccCS"
      },
      "source": [
        "from pyriemann.estimation import ERPCovariances\n",
        "from pyriemann.tangentspace import TangentSpace\n",
        "\n",
        "from sklearn.metrics import classification_report\n",
        "from sklearn import svm\n",
        "from sklearn.model_selection import cross_val_score"
      ],
      "execution_count": null,
      "outputs": []
    },
    {
      "cell_type": "markdown",
      "metadata": {
        "id": "z8odTmmse8C9"
      },
      "source": [
        "## Extracting Covariances"
      ]
    },
    {
      "cell_type": "code",
      "metadata": {
        "id": "2JZBir8OfD0G"
      },
      "source": [
        "covmat = ERPCovariances(estimator='lwf').fit(filt_train, training_labels)\n",
        "cov_train = covmat.transform(filt_train)\n",
        "ts_train = TangentSpace().fit_transform(cov_train)\n",
        "\n",
        "cov_val = covmat.transform(filt_val)\n",
        "ts_val = TangentSpace().fit_transform(cov_val)"
      ],
      "execution_count": null,
      "outputs": []
    },
    {
      "cell_type": "markdown",
      "metadata": {
        "id": "YSey1zn_03JT"
      },
      "source": [
        "## SVM"
      ]
    },
    {
      "cell_type": "code",
      "metadata": {
        "id": "IiP8DkoE0ymm"
      },
      "source": [
        "classifier = svm.SVC()\n",
        "classifier.fit(ts_train, training_labels)\n",
        "\n",
        "training_predicted= classifier.predict(ts_train)\n",
        "validation_pred=classifier.predict(ts_val)"
      ],
      "execution_count": null,
      "outputs": []
    },
    {
      "cell_type": "markdown",
      "metadata": {
        "id": "O-6sGyoWles5"
      },
      "source": [
        "## Results SVM"
      ]
    },
    {
      "cell_type": "code",
      "metadata": {
        "id": "SNGjgN4SgceZ",
        "colab": {
          "base_uri": "https://localhost:8080/"
        },
        "outputId": "7d5c1cea-afdf-4c37-8a13-cd205a7f60c7"
      },
      "source": [
        "print(\"\\n==================== RESULTS ====================\")\n",
        "score = training_predicted==training_labels\n",
        "print(\"Training Score:\",score.mean())\n",
        "\n",
        "# score = cross_val_score(classifier, ts_train, training_labels, cv=5)\n",
        "# print(\"5-fold Cross Validation Score:\",score.mean())\n",
        "\n",
        "score= validation_pred==validation_labels\n",
        "print(\"Validation Score:\",score.mean())\n",
        "\n",
        "print(classification_report(validation_pred,validation_labels))\n",
        "print(\"==================================================\\n\")"
      ],
      "execution_count": null,
      "outputs": [
        {
          "output_type": "stream",
          "text": [
            "\n",
            "==================== RESULTS ====================\n",
            "Training Score: 0.81\n",
            "Validation Score: 0.7888888888888889\n",
            "              precision    recall  f1-score   support\n",
            "\n",
            "           0       1.00      0.79      0.88       900\n",
            "           1       0.00      0.00      0.00         0\n",
            "\n",
            "    accuracy                           0.79       900\n",
            "   macro avg       0.50      0.39      0.44       900\n",
            "weighted avg       1.00      0.79      0.88       900\n",
            "\n",
            "==================================================\n",
            "\n"
          ],
          "name": "stdout"
        },
        {
          "output_type": "stream",
          "text": [
            "/usr/local/lib/python3.6/dist-packages/sklearn/metrics/_classification.py:1272: UndefinedMetricWarning: Recall and F-score are ill-defined and being set to 0.0 in labels with no true samples. Use `zero_division` parameter to control this behavior.\n",
            "  _warn_prf(average, modifier, msg_start, len(result))\n"
          ],
          "name": "stderr"
        }
      ]
    },
    {
      "cell_type": "markdown",
      "metadata": {
        "id": "oNuw-E-O0GCc"
      },
      "source": [
        "## XGBoost"
      ]
    },
    {
      "cell_type": "code",
      "metadata": {
        "id": "s5qM2it6ytYC",
        "colab": {
          "base_uri": "https://localhost:8080/"
        },
        "outputId": "858aba73-fcfa-48e7-d41e-fcdbcd6283a8"
      },
      "source": [
        "!pip install --upgrade xgboost\n",
        "from xgboost import XGBClassifier"
      ],
      "execution_count": null,
      "outputs": [
        {
          "output_type": "stream",
          "text": [
            "Collecting xgboost\n",
            "\u001b[?25l  Downloading https://files.pythonhosted.org/packages/35/cc/fd3d5fc6b6616a03385a0f6492cc77a253940d1026406ecc07597095e381/xgboost-1.2.1-py3-none-manylinux2010_x86_64.whl (148.9MB)\n",
            "\u001b[K     |████████████████████████████████| 148.9MB 70kB/s \n",
            "\u001b[?25hRequirement already satisfied, skipping upgrade: scipy in /usr/local/lib/python3.6/dist-packages (from xgboost) (1.4.1)\n",
            "Requirement already satisfied, skipping upgrade: numpy in /usr/local/lib/python3.6/dist-packages (from xgboost) (1.18.5)\n",
            "Installing collected packages: xgboost\n",
            "  Found existing installation: xgboost 0.90\n",
            "    Uninstalling xgboost-0.90:\n",
            "      Successfully uninstalled xgboost-0.90\n",
            "Successfully installed xgboost-1.2.1\n"
          ],
          "name": "stdout"
        }
      ]
    },
    {
      "cell_type": "code",
      "metadata": {
        "id": "vspG_X_BzMuu",
        "colab": {
          "base_uri": "https://localhost:8080/"
        },
        "outputId": "823126b6-e756-42dc-8dd7-5e7b2d7866b6"
      },
      "source": [
        "model = XGBClassifier()\n",
        "model.fit(ts_train, training_labels)"
      ],
      "execution_count": null,
      "outputs": [
        {
          "output_type": "execute_result",
          "data": {
            "text/plain": [
              "XGBClassifier(base_score=0.5, booster='gbtree', colsample_bylevel=1,\n",
              "              colsample_bynode=1, colsample_bytree=1, gamma=0, gpu_id=-1,\n",
              "              importance_type='gain', interaction_constraints='',\n",
              "              learning_rate=0.300000012, max_delta_step=0, max_depth=6,\n",
              "              min_child_weight=1, missing=nan, monotone_constraints='()',\n",
              "              n_estimators=100, n_jobs=0, num_parallel_tree=1,\n",
              "              objective='binary:logistic', random_state=0, reg_alpha=0,\n",
              "              reg_lambda=1, scale_pos_weight=1, subsample=1,\n",
              "              tree_method='exact', validate_parameters=1, verbosity=None)"
            ]
          },
          "metadata": {
            "tags": []
          },
          "execution_count": 17
        }
      ]
    },
    {
      "cell_type": "code",
      "metadata": {
        "id": "Tn27Nf_3zU67"
      },
      "source": [
        "training_predicted= model.predict(ts_train)\n",
        "validation_pred=model.predict(ts_val)"
      ],
      "execution_count": null,
      "outputs": []
    },
    {
      "cell_type": "markdown",
      "metadata": {
        "id": "WaxCMAXB0iKp"
      },
      "source": [
        "## Results XGBoost"
      ]
    },
    {
      "cell_type": "code",
      "metadata": {
        "id": "Atz841lPz6N3",
        "colab": {
          "base_uri": "https://localhost:8080/"
        },
        "outputId": "2ff58795-ad6b-4f09-aac3-c02dd13f4d2e"
      },
      "source": [
        "print(\"\\n==================== RESULTS ====================\")\n",
        "score = training_predicted==training_labels\n",
        "print(\"Training Score:\",score.mean())\n",
        "\n",
        "# score = cross_val_score(classifier, ts_train, training_labels, cv=5)\n",
        "# print(\"5-fold Cross Validation Score:\",score.mean())\n",
        "\n",
        "score= validation_pred==validation_labels\n",
        "print(\"Validation Score:\",score.mean())\n",
        "\n",
        "print(classification_report(validation_pred,validation_labels))\n",
        "print(\"==================================================\\n\")"
      ],
      "execution_count": null,
      "outputs": [
        {
          "output_type": "stream",
          "text": [
            "\n",
            "==================== RESULTS ====================\n",
            "Training Score: 1.0\n",
            "Validation Score: 0.5966666666666667\n",
            "              precision    recall  f1-score   support\n",
            "\n",
            "           0       0.69      0.77      0.73       631\n",
            "           1       0.25      0.18      0.21       269\n",
            "\n",
            "    accuracy                           0.60       900\n",
            "   macro avg       0.47      0.48      0.47       900\n",
            "weighted avg       0.56      0.60      0.57       900\n",
            "\n",
            "==================================================\n",
            "\n"
          ],
          "name": "stdout"
        }
      ]
    },
    {
      "cell_type": "code",
      "metadata": {
        "id": "MXjSPBVDKgY7",
        "colab": {
          "base_uri": "https://localhost:8080/"
        },
        "outputId": "f0efc19d-8a73-4228-a929-3a24f8ba11d0"
      },
      "source": [
        "print(ts_train.shape)\n",
        "print(training_labels.shape)\n",
        "print(ts_val.shape)\n",
        "print(validation_labels.shape)"
      ],
      "execution_count": null,
      "outputs": [
        {
          "output_type": "stream",
          "text": [
            "(2700, 4656)\n",
            "(2700,)\n",
            "(900, 4656)\n",
            "(900,)\n"
          ],
          "name": "stdout"
        }
      ]
    },
    {
      "cell_type": "markdown",
      "metadata": {
        "id": "y9CjrGag7aOA"
      },
      "source": [
        "##DNN"
      ]
    },
    {
      "cell_type": "code",
      "metadata": {
        "id": "snfupHR2tZuA"
      },
      "source": [
        "from keras.models import Sequential\n",
        "from keras.layers import Dense\n",
        "from sklearn import feature_selection"
      ],
      "execution_count": null,
      "outputs": []
    },
    {
      "cell_type": "code",
      "metadata": {
        "id": "ybPDi8WT5o-w"
      },
      "source": [
        "mifs = feature_selection.mutual_info_classif(ts_train, training_labels)"
      ],
      "execution_count": null,
      "outputs": []
    },
    {
      "cell_type": "code",
      "metadata": {
        "id": "tiv5HK1csyIb"
      },
      "source": [
        "model = Sequential()\n",
        "model.add(Dense(8192, activation='relu'))\n",
        "model.add(Dense(8192, activation='relu'))\n",
        "model.add(Dense(2048, activation='relu'))\n",
        "model.add(Dense(512, activation='relu'))\n",
        "model.add(Dense(1, activation='sigmoid'))\n",
        "\n",
        "model.compile(loss='binary_crossentropy', optimizer='adam', metrics=['accuracy'])\n",
        "model.fit(ts_train, training_labels, epochs=100, verbose=1)"
      ],
      "execution_count": null,
      "outputs": []
    },
    {
      "cell_type": "code",
      "metadata": {
        "id": "Wa3qUxSgtk_5",
        "colab": {
          "base_uri": "https://localhost:8080/"
        },
        "outputId": "b94236aa-b741-4466-f847-3de0793b4126"
      },
      "source": [
        "loss, accuracy= model.evaluate(ts_val, validation_labels, verbose=1)"
      ],
      "execution_count": null,
      "outputs": [
        {
          "output_type": "stream",
          "text": [
            "29/29 [==============================] - 0s 5ms/step - loss: 0.5915 - accuracy: 0.7889\n"
          ],
          "name": "stdout"
        }
      ]
    }
  ]
}